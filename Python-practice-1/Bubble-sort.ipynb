{
 "cells": [
  {
   "cell_type": "code",
   "execution_count": 3,
   "metadata": {},
   "outputs": [
    {
     "data": {
      "text/plain": [
       "[1, 1, 2, 2, 3, 3, 5, 7, 21, 90]"
      ]
     },
     "execution_count": 3,
     "metadata": {},
     "output_type": "execute_result"
    }
   ],
   "source": [
    "\n",
    "def bubbleSort(a):\n",
    "    b = len(a)- 1\n",
    "    for x in range(b):\n",
    "        for y in range(b-x):\n",
    "            if a[y] > a[y+1]:\n",
    "                a[y], a[y+1] = a[y+1], a[y]\n",
    "    return a\n",
    "a=[1,2,7,1,3,5,2,21,90,3]\n",
    "bubbleSort(a)\n",
    "                "
   ]
  }
 ],
 "metadata": {
  "kernelspec": {
   "display_name": "Python 3.9.13 64-bit (microsoft store)",
   "language": "python",
   "name": "python3"
  },
  "language_info": {
   "codemirror_mode": {
    "name": "ipython",
    "version": 3
   },
   "file_extension": ".py",
   "mimetype": "text/x-python",
   "name": "python",
   "nbconvert_exporter": "python",
   "pygments_lexer": "ipython3",
   "version": "3.9.13"
  },
  "orig_nbformat": 4,
  "vscode": {
   "interpreter": {
    "hash": "07c3a98431b513a05678a4f58a817834c9b5da7a769e43c202a273289ce50c45"
   }
  }
 },
 "nbformat": 4,
 "nbformat_minor": 2
}
